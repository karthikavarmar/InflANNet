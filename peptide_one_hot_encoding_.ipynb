{
  "nbformat": 4,
  "nbformat_minor": 0,
  "metadata": {
    "colab": {
      "name": "peptide one-hot-encoding .ipynb",
      "provenance": [],
      "collapsed_sections": []
    },
    "kernelspec": {
      "name": "python3",
      "display_name": "Python 3"
    }
  },
  "cells": [
    {
      "cell_type": "code",
      "metadata": {
        "id": "2ujBP8MN3FO_"
      },
      "source": [
        "import numpy as np\n",
        "import pandas as pd\n",
        "import matplotlib.pyplot as plt"
      ],
      "execution_count": null,
      "outputs": []
    },
    {
      "cell_type": "code",
      "metadata": {
        "id": "pak5MUNE3RDP"
      },
      "source": [
        "from google.colab import drive\n",
        "drive.mount('/gdrive/')"
      ],
      "execution_count": null,
      "outputs": []
    },
    {
      "cell_type": "code",
      "metadata": {
        "id": "EN4naRaQ3dVN"
      },
      "source": [
        "print ('Files in Drive:')\n",
        "!ls \"/gdrive/My Drive/Modatac.csv\""
      ],
      "execution_count": null,
      "outputs": []
    },
    {
      "cell_type": "code",
      "metadata": {
        "id": "p7es279aueiM"
      },
      "source": [
        "vacand = pd.read_csv('/gdrive/My Drive/Modatac.csv',sep = ',', skipinitialspace=True)"
      ],
      "execution_count": null,
      "outputs": []
    },
    {
      "cell_type": "code",
      "metadata": {
        "id": "8O6lxrQfueri"
      },
      "source": [
        "vacand = pd.read_csv ('/gdrive/My Drive/Modatac.csv', sep='\\s*,\\s*', skipinitialspace=True, engine='python')"
      ],
      "execution_count": null,
      "outputs": []
    },
    {
      "cell_type": "code",
      "metadata": {
        "id": "ZipRrLBWy5eL"
      },
      "source": [
        "vacand"
      ],
      "execution_count": null,
      "outputs": []
    },
    {
      "cell_type": "code",
      "metadata": {
        "id": "s3IGvXlPzFTP"
      },
      "source": [
       "execution_count": null,
      "outputs": []
    },
    {
      "cell_type": "code",
      "metadata": {
        "id": "Ffys6A-kzUxa"
      },
      "source": [
        "vacand['CATEGORY'].unique()"
      ],
      "outputs": []
    },
    {
      "cell_type": "code",
      "metadata": {
        "id": "N6ArKIXp9Dx1"
      },
      "source": [
        "pep = vacand['PEPTIDE']\n",
        "print(pep)"
      ],
      "execution_count": null,
      "outputs": []
    },
    {
      "cell_type": "code",
      "metadata": {
        "id": "WMyoWiAAhfHD"
      },
      "source": [
        "%matplotlib inline\n",
        "import matplotlib as mpl\n",
        "import matplotlib.pyplot as plt\n",
        "import seaborn as sns\n",
        "sns.set_context(\"notebook\", font_scale=1.4)"
      ],
      "execution_count": null,
      "outputs": []
    },
    {
      "cell_type": "code",
      "metadata": {
        "id": "AeB5dLXFhfMO"
      },
      "source": [
        "codes = ['A', 'C', 'D', 'E', 'F', 'G', 'H', 'I', 'K', 'L',\n",
        "         'M', 'N', 'P', 'Q', 'R', 'S', 'T', 'V', 'W', 'Y']\n",
        "         \n",
        "def one_hot_encode(seq):\n",
        "    \n",
        "    o = list(set(codes) - set(seq))\n",
        "    s = pd.DataFrame(list(seq))    \n",
        "    x = pd.DataFrame(np.zeros((len(seq),len(o)),dtype=int),columns=o)    \n",
        "    a = s[0].str.get_dummies(sep=',')\n",
        "    a = a.join(x)\n",
        "    a = a.sort_index(axis=1)\n",
        "    \n",
        "    e = a.values.flatten()\n",
        "    return e\n",
        "\n",
        "for x in pep:\n",
        "    e = one_hot_encode(x)\n",
        "    print(e)"
      ],
      "execution_count": null,
      "outputs": []
    },
    {
      "cell_type": "code",
      "metadata": {
        "id": "kFGZFUv1hfRs"
      },
      "source": [
        "e_onehot = []\n",
        "for i in range(len(pep)):\n",
        "    e_onehot.append(one_hot_encode(pep[i]))"
      ],
      "execution_count": null,
      "outputs": []
    },
    {
      "cell_type": "code",
      "metadata": {
        "id": "1idZ8LEphfOF"
      },
      "source": [
        "e_onehot = pd.DataFrame(e_onehot)"
      ],
      "execution_count": null,
      "outputs": []
    },
    {
      "cell_type": "code",
      "metadata": {
        "id": "7CkZlQWMhfTm"
      },
      "source": [
        "vacand = pd.concat([vacand,e_onehot],axis='columns')"
      ],
      "execution_count": null,
      "outputs": []
    }
  ]
}
